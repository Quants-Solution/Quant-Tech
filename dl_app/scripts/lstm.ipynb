{
 "cells": [
  {
   "cell_type": "code",
   "execution_count": 39,
   "metadata": {},
   "outputs": [],
   "source": [
    "# Importing Libraires and dependencies :\n",
    "import pandas as pd\n",
    "import numpy as np\n",
    "from sklearn.preprocessing import MinMaxScaler\n",
    "from tensorflow.keras.models import Sequential, load_model\n",
    "from tensorflow.keras.layers import Dense,LSTM,Dropout\n",
    "import yfinance as yf\n",
    "from tensorflow.keras.optimizers import Adam\n",
    "from tensorflow.keras.callbacks import EarlyStopping\n",
    "from tensorflow import keras\n",
    "import matplotlib.pyplot as plt\n",
    "import datetime as dt\n",
    "from scipy.stats import zscore\n",
    "import joblib"
   ]
  },
  {
   "cell_type": "code",
   "execution_count": 40,
   "metadata": {},
   "outputs": [
    {
     "name": "stderr",
     "output_type": "stream",
     "text": [
      "[*********************100%%**********************]  1 of 1 completed\n"
     ]
    }
   ],
   "source": [
    "data = yf.download(\"^GSPC\")[[\"Close\",\"Volume\"]]"
   ]
  },
  {
   "cell_type": "code",
   "execution_count": 41,
   "metadata": {},
   "outputs": [],
   "source": [
    "data = data[10000:].pct_change().dropna()"
   ]
  },
  {
   "cell_type": "code",
   "execution_count": 42,
   "metadata": {},
   "outputs": [],
   "source": [
    "data[\"close_z\"] = zscore(data[\"Close\"])\n",
    "data[\"vol_z\"] = zscore(data[\"Volume\"])"
   ]
  },
  {
   "cell_type": "code",
   "execution_count": 15,
   "metadata": {},
   "outputs": [],
   "source": [
    "# start_time = dt.datetime.now().date() -dt.timedelta(days=100)\n",
    "# data = yf.download(\"^GSPC\",start=start_time)[[\"Close\",\"Volume\"]]\n",
    "# input_scaler = joblib.load(\"./model_components/x_scaler.joblib\")\n",
    "# output_scaler = joblib.load(\"./model_components/y_scaler.joblib\")\n",
    "# model = load_model(\"./model_components/lstm.h5\")\n",
    "# input_scaled = input_scaler.transform(data.iloc[-60:, :]).reshape((1,60,2))\n",
    "# pred = model.predict(input_scaled)"
   ]
  },
  {
   "cell_type": "code",
   "execution_count": 46,
   "metadata": {},
   "outputs": [],
   "source": [
    "def window_data(data,look_back,foresact):\n",
    "    X= []\n",
    "    y=[]\n",
    "    for i in range(len(data)-look_back - foresact + 1):\n",
    "        features = data.iloc[i:(i+look_back), :]\n",
    "        target = data.iloc[(i+look_back): (i + look_back + foresact),0]\n",
    "        X.append(features)\n",
    "        y.append(target)\n",
    "    return np.array(X),np.array(y)"
   ]
  },
  {
   "cell_type": "code",
   "execution_count": 47,
   "metadata": {},
   "outputs": [],
   "source": [
    "X,y = window_data(data, look_back=60, foresact=5)"
   ]
  },
  {
   "cell_type": "code",
   "execution_count": 48,
   "metadata": {},
   "outputs": [
    {
     "data": {
      "text/plain": [
       "((14123, 60, 4), (14123, 5))"
      ]
     },
     "execution_count": 48,
     "metadata": {},
     "output_type": "execute_result"
    }
   ],
   "source": [
    "X.shape,y.shape"
   ]
  },
  {
   "cell_type": "code",
   "execution_count": 49,
   "metadata": {},
   "outputs": [],
   "source": [
    "split = int(0.7*len(data))\n",
    "x_train =X[:split]\n",
    "x_test = X[split:]\n",
    "y_train = y[:split]\n",
    "y_test = y[split:]"
   ]
  },
  {
   "cell_type": "code",
   "execution_count": 81,
   "metadata": {},
   "outputs": [],
   "source": [
    "model = Sequential()\n",
    "model.add(LSTM(50,return_sequences=True ,input_shape = (x_train.shape[1],x_train.shape[2]),activation ='tanh'))\n",
    "model.add(Dropout(0.2))\n",
    "model.add(LSTM(100,return_sequences=True,activation ='tanh'))\n",
    "model.add(Dropout(0.2))\n",
    "model.add(LSTM(100,return_sequences=True,activation ='tanh'))\n",
    "model.add(Dropout(0.2))\n",
    "model.add(LSTM(50,activation ='tanh'))\n",
    "model.add(Dropout(0.2))\n",
    "model.add(Dense(5, activation='linear')) \n",
    "model.compile(optimizer=Adam(learning_rate=0.0001),loss='mean_squared_error')"
   ]
  },
  {
   "cell_type": "code",
   "execution_count": 82,
   "metadata": {},
   "outputs": [
    {
     "name": "stdout",
     "output_type": "stream",
     "text": [
      "Model: \"sequential_7\"\n",
      "_________________________________________________________________\n",
      " Layer (type)                Output Shape              Param #   \n",
      "=================================================================\n",
      " lstm_24 (LSTM)              (None, 60, 50)            11000     \n",
      "                                                                 \n",
      " dropout_24 (Dropout)        (None, 60, 50)            0         \n",
      "                                                                 \n",
      " lstm_25 (LSTM)              (None, 60, 100)           60400     \n",
      "                                                                 \n",
      " dropout_25 (Dropout)        (None, 60, 100)           0         \n",
      "                                                                 \n",
      " lstm_26 (LSTM)              (None, 60, 100)           80400     \n",
      "                                                                 \n",
      " dropout_26 (Dropout)        (None, 60, 100)           0         \n",
      "                                                                 \n",
      " lstm_27 (LSTM)              (None, 50)                30200     \n",
      "                                                                 \n",
      " dropout_27 (Dropout)        (None, 50)                0         \n",
      "                                                                 \n",
      " dense_6 (Dense)             (None, 5)                 255       \n",
      "                                                                 \n",
      "=================================================================\n",
      "Total params: 182,255\n",
      "Trainable params: 182,255\n",
      "Non-trainable params: 0\n",
      "_________________________________________________________________\n"
     ]
    }
   ],
   "source": [
    "model.summary()"
   ]
  },
  {
   "cell_type": "code",
   "execution_count": 83,
   "metadata": {},
   "outputs": [],
   "source": [
    "early_stopping_callback = EarlyStopping(\n",
    "    monitor='val_loss', \n",
    "    patience=5,         \n",
    "    restore_best_weights=True)"
   ]
  },
  {
   "cell_type": "code",
   "execution_count": 84,
   "metadata": {},
   "outputs": [
    {
     "name": "stdout",
     "output_type": "stream",
     "text": [
      "Epoch 1/100\n",
      "159/159 [==============================] - 9s 30ms/step - loss: 1.0367e-04 - val_loss: 1.2589e-04\n",
      "Epoch 2/100\n",
      "159/159 [==============================] - 4s 23ms/step - loss: 9.3212e-05 - val_loss: 1.2621e-04\n",
      "Epoch 3/100\n",
      "159/159 [==============================] - 4s 24ms/step - loss: 9.0783e-05 - val_loss: 1.2497e-04\n",
      "Epoch 4/100\n",
      "159/159 [==============================] - 4s 25ms/step - loss: 8.9882e-05 - val_loss: 1.2484e-04\n",
      "Epoch 5/100\n",
      "159/159 [==============================] - 4s 26ms/step - loss: 8.9233e-05 - val_loss: 1.2474e-04\n",
      "Epoch 6/100\n",
      "159/159 [==============================] - 4s 26ms/step - loss: 8.8752e-05 - val_loss: 1.2475e-04\n",
      "Epoch 7/100\n",
      "159/159 [==============================] - 4s 27ms/step - loss: 8.8588e-05 - val_loss: 1.2474e-04\n",
      "Epoch 8/100\n",
      "159/159 [==============================] - 4s 27ms/step - loss: 8.8475e-05 - val_loss: 1.2469e-04\n",
      "Epoch 9/100\n",
      "159/159 [==============================] - 4s 26ms/step - loss: 8.8447e-05 - val_loss: 1.2447e-04\n",
      "Epoch 10/100\n",
      "159/159 [==============================] - 4s 26ms/step - loss: 8.8016e-05 - val_loss: 1.2463e-04\n",
      "Epoch 11/100\n",
      "159/159 [==============================] - 4s 27ms/step - loss: 8.8013e-05 - val_loss: 1.2449e-04\n",
      "Epoch 12/100\n",
      "159/159 [==============================] - 4s 26ms/step - loss: 8.7843e-05 - val_loss: 1.2445e-04\n",
      "Epoch 13/100\n",
      "159/159 [==============================] - 4s 26ms/step - loss: 8.7761e-05 - val_loss: 1.2455e-04\n",
      "Epoch 14/100\n",
      "159/159 [==============================] - 4s 26ms/step - loss: 8.7889e-05 - val_loss: 1.2451e-04\n",
      "Epoch 15/100\n",
      "159/159 [==============================] - 4s 26ms/step - loss: 8.7575e-05 - val_loss: 1.2448e-04\n",
      "Epoch 16/100\n",
      "159/159 [==============================] - 4s 27ms/step - loss: 8.7502e-05 - val_loss: 1.2439e-04\n",
      "Epoch 17/100\n",
      "159/159 [==============================] - 4s 27ms/step - loss: 8.7361e-05 - val_loss: 1.2453e-04\n",
      "Epoch 18/100\n",
      "159/159 [==============================] - 4s 27ms/step - loss: 8.7337e-05 - val_loss: 1.2417e-04\n",
      "Epoch 19/100\n",
      "159/159 [==============================] - 4s 27ms/step - loss: 8.7367e-05 - val_loss: 1.2448e-04\n",
      "Epoch 20/100\n",
      "159/159 [==============================] - 4s 27ms/step - loss: 8.7310e-05 - val_loss: 1.2450e-04\n",
      "Epoch 21/100\n",
      "159/159 [==============================] - 4s 26ms/step - loss: 8.7396e-05 - val_loss: 1.2441e-04\n",
      "Epoch 22/100\n",
      "159/159 [==============================] - 4s 27ms/step - loss: 8.7280e-05 - val_loss: 1.2448e-04\n",
      "Epoch 23/100\n",
      "159/159 [==============================] - 4s 27ms/step - loss: 8.7306e-05 - val_loss: 1.2428e-04\n"
     ]
    }
   ],
   "source": [
    "history = model.fit(x_train,y_train,batch_size=50,epochs=100,validation_split=0.2,shuffle=False, callbacks=[early_stopping_callback])"
   ]
  },
  {
   "cell_type": "code",
   "execution_count": 85,
   "metadata": {},
   "outputs": [
    {
     "name": "stdout",
     "output_type": "stream",
     "text": [
      "132/132 [==============================] - 1s 10ms/step - loss: 1.6504e-04\n"
     ]
    },
    {
     "data": {
      "text/plain": [
       "0.000165038465638645"
      ]
     },
     "execution_count": 85,
     "metadata": {},
     "output_type": "execute_result"
    }
   ],
   "source": [
    "model.evaluate(x_test,y_test)"
   ]
  },
  {
   "cell_type": "code",
   "execution_count": 86,
   "metadata": {},
   "outputs": [
    {
     "name": "stdout",
     "output_type": "stream",
     "text": [
      "132/132 [==============================] - 2s 10ms/step\n"
     ]
    }
   ],
   "source": [
    "predictions = model.predict(x_test)"
   ]
  },
  {
   "cell_type": "code",
   "execution_count": 87,
   "metadata": {},
   "outputs": [
    {
     "data": {
      "text/plain": [
       "array([0.00106819, 0.0009089 , 0.0012117 , 0.0011884 , 0.00113906],\n",
       "      dtype=float32)"
      ]
     },
     "execution_count": 87,
     "metadata": {},
     "output_type": "execute_result"
    }
   ],
   "source": [
    "predictions[-1]"
   ]
  },
  {
   "cell_type": "code",
   "execution_count": 88,
   "metadata": {},
   "outputs": [],
   "source": [
    "from sklearn.metrics import mean_squared_error"
   ]
  },
  {
   "cell_type": "code",
   "execution_count": 89,
   "metadata": {},
   "outputs": [
    {
     "data": {
      "text/plain": [
       "1.6503848819289988"
      ]
     },
     "execution_count": 89,
     "metadata": {},
     "output_type": "execute_result"
    }
   ],
   "source": [
    "error = []\n",
    "for i,x  in zip(y_test,predictions):\n",
    "    epsilon = mean_squared_error(i*100,x*100)\n",
    "    error.append(epsilon)\n",
    "sum(error) / len(error)"
   ]
  },
  {
   "cell_type": "code",
   "execution_count": 100,
   "metadata": {},
   "outputs": [
    {
     "data": {
      "image/png": "[encoded data removed]",
      "text/plain": [
       "<Figure size 640x480 with 1 Axes>"
      ]
     },
     "metadata": {},
     "output_type": "display_data"
    }
   ],
   "source": [
    "pd.Series(predictions[-5]).plot(kind = \"bar\")\n",
    "# pd.Series(y_test[-1]).plot()\n",
    "plt.show();"
   ]
  },
  {
   "cell_type": "code",
   "execution_count": 101,
   "metadata": {},
   "outputs": [
    {
     "data": {
      "text/plain": [
       "<Axes: >"
      ]
     },
     "execution_count": 101,
     "metadata": {},
     "output_type": "execute_result"
    },
    {
     "data": {
      "image/png": "[encoded data removed]",
      "text/plain": [
       "<Figure size 640x480 with 1 Axes>"
      ]
     },
     "metadata": {},
     "output_type": "display_data"
    }
   ],
   "source": [
    "pd.Series(y_test[-5]).plot(kind=\"bar\")"
   ]
  },
  {
   "cell_type": "code",
   "execution_count": 95,
   "metadata": {},
   "outputs": [],
   "source": [
    "model.save(\"lstm.h5\")"
   ]
  },
  {
   "cell_type": "code",
   "execution_count": null,
   "metadata": {},
   "outputs": [],
   "source": [
    "from tensorflow.keras.models import load_model"
   ]
  },
  {
   "cell_type": "code",
   "execution_count": null,
   "metadata": {},
   "outputs": [],
   "source": [
    "loaded_model = load_model(\"lstm.h5\")"
   ]
  }
 ],
 "metadata": {
  "kernelspec": {
   "display_name": "mlenv",
   "language": "python",
   "name": "python3"
  },
  "language_info": {
   "codemirror_mode": {
    "name": "ipython",
    "version": 3
   },
   "file_extension": ".py",
   "mimetype": "text/x-python",
   "name": "python",
   "nbconvert_exporter": "python",
   "pygments_lexer": "ipython3",
   "version": "3.10.0"
  }
 },
 "nbformat": 4,
 "nbformat_minor": 2
}

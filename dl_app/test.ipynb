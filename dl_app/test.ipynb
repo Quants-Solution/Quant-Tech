{
 "cells": [
  {
   "cell_type": "code",
   "execution_count": 5,
   "metadata": {},
   "outputs": [],
   "source": [
    "# Importing Libraires and dependencies :\n",
    "import pandas as pd\n",
    "import numpy as np\n",
    "from sklearn.preprocessing import MinMaxScaler\n",
    "from tensorflow.keras.models import Sequential\n",
    "from tensorflow.keras.layers import Dense,LSTM,Dropout\n",
    "import yfinance as yf"
   ]
  },
  {
   "cell_type": "code",
   "execution_count": 11,
   "metadata": {},
   "outputs": [
    {
     "name": "stderr",
     "output_type": "stream",
     "text": [
      "[*********************100%%**********************]  1 of 1 completed\n"
     ]
    }
   ],
   "source": [
    "data = yf.download(\"^GSPC\")"
   ]
  },
  {
   "cell_type": "code",
   "execution_count": 13,
   "metadata": {},
   "outputs": [],
   "source": [
    "data = data[\"Close\"]"
   ]
  },
  {
   "cell_type": "code",
   "execution_count": 125,
   "metadata": {},
   "outputs": [],
   "source": [
    "def window_data(data,look_back,window):\n",
    "    X= []\n",
    "    y=[]\n",
    "    for i in range(len(data)-look_back -window +1):\n",
    "        features = data.iloc[i:(i+look_back)]\n",
    "\n",
    "        target = data.iloc[(i+look_back):(i+look_back+window)]\n",
    "        X.append(features)\n",
    "        y.append(target)\n",
    "    return np.array(X),np.array(y)"
   ]
  },
  {
   "cell_type": "code",
   "execution_count": 206,
   "metadata": {},
   "outputs": [],
   "source": [
    "x,y = window_data(data=data[-2000:],look_back=40,window=5)"
   ]
  },
  {
   "cell_type": "code",
   "execution_count": 207,
   "metadata": {},
   "outputs": [],
   "source": [
    "split = int(0.7*len(x))\n",
    "x_train = x[:split]\n",
    "x_test = x[split:]\n",
    "y_train = y[:split]\n",
    "y_test = y[split:]"
   ]
  },
  {
   "cell_type": "code",
   "execution_count": 208,
   "metadata": {},
   "outputs": [
    {
     "data": {
      "text/plain": [
       "array([2058.68994141, 2084.38989258, 2064.45996094, 2064.11010742,\n",
       "       2046.60998535, 2066.65991211, 2047.20996094, 2047.63000488,\n",
       "       2040.04003906, 2052.32006836, 2048.04003906, 2076.06005859,\n",
       "       2090.54003906, 2090.10009766, 2099.06005859, 2096.94995117,\n",
       "       2099.33007812, 2105.26000977, 2099.12988281, 2109.40991211,\n",
       "       2112.12988281, 2119.12011719, 2115.47998047, 2096.07006836,\n",
       "       2079.06005859, 2075.32006836, 2071.5       , 2077.98999023,\n",
       "       2071.2199707 , 2083.25      , 2088.89990234, 2085.44995117,\n",
       "       2113.32006836, 2037.41003418, 2000.54003906, 2036.08996582,\n",
       "       2070.77001953, 2098.86010742, 2102.94995117, 2088.55004883])"
      ]
     },
     "execution_count": 208,
     "metadata": {},
     "output_type": "execute_result"
    }
   ],
   "source": [
    "x_train[3]"
   ]
  },
  {
   "cell_type": "code",
   "execution_count": 209,
   "metadata": {},
   "outputs": [
    {
     "data": {
      "text/plain": [
       "((1369, 40), (1369, 5))"
      ]
     },
     "execution_count": 209,
     "metadata": {},
     "output_type": "execute_result"
    }
   ],
   "source": [
    "x_train.shape,y_train.shape"
   ]
  },
  {
   "cell_type": "code",
   "execution_count": 210,
   "metadata": {},
   "outputs": [
    {
     "data": {
      "text/plain": [
       "((587, 40), (587, 5))"
      ]
     },
     "execution_count": 210,
     "metadata": {},
     "output_type": "execute_result"
    }
   ],
   "source": [
    "x_test.shape,y_test.shape"
   ]
  },
  {
   "cell_type": "code",
   "execution_count": 211,
   "metadata": {},
   "outputs": [],
   "source": [
    "scaler = MinMaxScaler()"
   ]
  },
  {
   "cell_type": "code",
   "execution_count": 212,
   "metadata": {},
   "outputs": [],
   "source": [
    "x_train_scaled = scaler.fit(x_train)\n",
    "x_train_scaled =scaler.transform(x_train)\n",
    "x_test_scaled = scaler.transform(x_test)"
   ]
  },
  {
   "cell_type": "code",
   "execution_count": 213,
   "metadata": {},
   "outputs": [],
   "source": [
    "y_train_scaled = scaler.fit(y_train)\n",
    "y_train_scaled = scaler.transform(y_train)\n",
    "y_test_scaled = scaler.transform(y_test)"
   ]
  },
  {
   "cell_type": "code",
   "execution_count": 214,
   "metadata": {},
   "outputs": [
    {
     "data": {
      "text/plain": [
       "(1369, 40)"
      ]
     },
     "execution_count": 214,
     "metadata": {},
     "output_type": "execute_result"
    }
   ],
   "source": [
    "x_train_scaled.shape"
   ]
  },
  {
   "cell_type": "code",
   "execution_count": 220,
   "metadata": {},
   "outputs": [],
   "source": [
    "nn = Sequential()"
   ]
  },
  {
   "cell_type": "code",
   "execution_count": 221,
   "metadata": {},
   "outputs": [
    {
     "name": "stdout",
     "output_type": "stream",
     "text": [
      "WARNING:tensorflow:Layer lstm_31 will not use cuDNN kernels since it doesn't meet the criteria. It will use a generic GPU kernel as fallback when running on GPU.\n"
     ]
    }
   ],
   "source": [
    "nn.add(LSTM(units=10,return_sequences=True ,input_shape = (x_train.shape[1],1),activation ='relu'))\n",
    "nn.add(Dropout(0.2))"
   ]
  },
  {
   "cell_type": "code",
   "execution_count": 222,
   "metadata": {},
   "outputs": [],
   "source": [
    "nn.add(LSTM(20,return_sequences=True))\n",
    "nn.add(Dropout(0.2))"
   ]
  },
  {
   "cell_type": "code",
   "execution_count": 223,
   "metadata": {},
   "outputs": [],
   "source": [
    "nn.add(LSTM(10,))\n",
    "nn.add(Dropout(0.2))"
   ]
  },
  {
   "cell_type": "code",
   "execution_count": 224,
   "metadata": {},
   "outputs": [],
   "source": [
    "nn.add(Dense(5))"
   ]
  },
  {
   "cell_type": "code",
   "execution_count": 225,
   "metadata": {},
   "outputs": [],
   "source": [
    "model = nn.compile(optimizer='adam',loss='mean_squared_error')"
   ]
  },
  {
   "cell_type": "code",
   "execution_count": 226,
   "metadata": {},
   "outputs": [
    {
     "name": "stdout",
     "output_type": "stream",
     "text": [
      "Model: \"sequential_10\"\n",
      "_________________________________________________________________\n",
      " Layer (type)                Output Shape              Param #   \n",
      "=================================================================\n",
      " lstm_31 (LSTM)              (None, 40, 10)            480       \n",
      "                                                                 \n",
      " dropout_30 (Dropout)        (None, 40, 10)            0         \n",
      "                                                                 \n",
      " lstm_32 (LSTM)              (None, 40, 20)            2480      \n",
      "                                                                 \n",
      " dropout_31 (Dropout)        (None, 40, 20)            0         \n",
      "                                                                 \n",
      " lstm_33 (LSTM)              (None, 10)                1240      \n",
      "                                                                 \n",
      " dropout_32 (Dropout)        (None, 10)                0         \n",
      "                                                                 \n",
      " dense_10 (Dense)            (None, 5)                 55        \n",
      "                                                                 \n",
      "=================================================================\n",
      "Total params: 4,255\n",
      "Trainable params: 4,255\n",
      "Non-trainable params: 0\n",
      "_________________________________________________________________\n"
     ]
    }
   ],
   "source": [
    "nn.summary()"
   ]
  },
  {
   "cell_type": "code",
   "execution_count": 227,
   "metadata": {},
   "outputs": [
    {
     "name": "stdout",
     "output_type": "stream",
     "text": [
      "Epoch 1/10\n",
      "110/110 [==============================] - 12s 87ms/step - loss: 0.0111 - val_loss: 0.1481\n",
      "Epoch 2/10\n",
      "110/110 [==============================] - 9s 79ms/step - loss: 0.0156 - val_loss: 0.0639\n",
      "Epoch 3/10\n",
      "110/110 [==============================] - 9s 81ms/step - loss: 0.0107 - val_loss: 0.0331\n",
      "Epoch 4/10\n",
      "110/110 [==============================] - 9s 80ms/step - loss: 0.0071 - val_loss: 0.0130\n",
      "Epoch 5/10\n",
      "110/110 [==============================] - 9s 80ms/step - loss: 0.0059 - val_loss: 0.0175\n",
      "Epoch 6/10\n",
      "110/110 [==============================] - 9s 80ms/step - loss: 0.0052 - val_loss: 0.0226\n",
      "Epoch 7/10\n",
      "110/110 [==============================] - 9s 81ms/step - loss: 0.0041 - val_loss: 0.0187\n",
      "Epoch 8/10\n",
      "110/110 [==============================] - 9s 80ms/step - loss: 0.0034 - val_loss: 0.0219\n",
      "Epoch 9/10\n",
      "110/110 [==============================] - 9s 81ms/step - loss: 0.0034 - val_loss: 0.0231\n",
      "Epoch 10/10\n",
      "110/110 [==============================] - 9s 80ms/step - loss: 0.0034 - val_loss: 0.0222\n"
     ]
    },
    {
     "data": {
      "text/plain": [
       "<keras.callbacks.History at 0x21338763520>"
      ]
     },
     "execution_count": 227,
     "metadata": {},
     "output_type": "execute_result"
    }
   ],
   "source": [
    "nn.fit(x_train_scaled,y_train_scaled,batch_size=10,epochs=10,shuffle=False,validation_split=0.2)"
   ]
  },
  {
   "cell_type": "code",
   "execution_count": 228,
   "metadata": {},
   "outputs": [
    {
     "name": "stdout",
     "output_type": "stream",
     "text": [
      "19/19 [==============================] - 0s 19ms/step - loss: 0.0316\n"
     ]
    },
    {
     "data": {
      "text/plain": [
       "0.03164336830377579"
      ]
     },
     "execution_count": 228,
     "metadata": {},
     "output_type": "execute_result"
    }
   ],
   "source": [
    "nn.evaluate(x_test_scaled,y_test_scaled)"
   ]
  },
  {
   "cell_type": "code",
   "execution_count": 229,
   "metadata": {},
   "outputs": [
    {
     "data": {
      "text/plain": [
       "(587, 5)"
      ]
     },
     "execution_count": 229,
     "metadata": {},
     "output_type": "execute_result"
    }
   ],
   "source": [
    "y_test_scaled.shape"
   ]
  },
  {
   "cell_type": "code",
   "execution_count": 230,
   "metadata": {},
   "outputs": [
    {
     "name": "stdout",
     "output_type": "stream",
     "text": [
      "19/19 [==============================] - 1s 17ms/step\n"
     ]
    }
   ],
   "source": [
    "predictions = nn.predict(x_test_scaled)"
   ]
  },
  {
   "cell_type": "code",
   "execution_count": 231,
   "metadata": {},
   "outputs": [],
   "source": [
    "pred_prices = scaler.inverse_transform(predictions)\n",
    "real_prices = scaler.inverse_transform(y_test_scaled)"
   ]
  },
  {
   "cell_type": "code",
   "execution_count": 236,
   "metadata": {},
   "outputs": [],
   "source": [
    "price = pd.DataFrame({'y_actual': real_prices[-1].ravel(),'y_pred' : pred_prices[-1].ravel()},index =[i for i in range(5)])"
   ]
  },
  {
   "cell_type": "code",
   "execution_count": 237,
   "metadata": {},
   "outputs": [
    {
     "data": {
      "text/plain": [
       "<Axes: >"
      ]
     },
     "execution_count": 237,
     "metadata": {},
     "output_type": "execute_result"
    },
    {
     "data": {
      "image/png": "[encoded data removed]",
      "text/plain": [
       "<Figure size 640x480 with 1 Axes>"
      ]
     },
     "metadata": {},
     "output_type": "display_data"
    }
   ],
   "source": [
    "price.y_actual.plot()"
   ]
  },
  {
   "cell_type": "code",
   "execution_count": 238,
   "metadata": {},
   "outputs": [
    {
     "data": {
      "text/plain": [
       "<Axes: >"
      ]
     },
     "execution_count": 238,
     "metadata": {},
     "output_type": "execute_result"
    },
    {
     "data": {
      "image/png": "[encoded data removed]",
      "text/plain": [
       "<Figure size 640x480 with 1 Axes>"
      ]
     },
     "metadata": {},
     "output_type": "display_data"
    }
   ],
   "source": [
    "price.y_pred.plot()"
   ]
  },
  {
   "cell_type": "code",
   "execution_count": null,
   "metadata": {},
   "outputs": [],
   "source": []
  }
 ],
 "metadata": {
  "kernelspec": {
   "display_name": "mlenv",
   "language": "python",
   "name": "python3"
  },
  "language_info": {
   "codemirror_mode": {
    "name": "ipython",
    "version": 3
   },
   "file_extension": ".py",
   "mimetype": "text/x-python",
   "name": "python",
   "nbconvert_exporter": "python",
   "pygments_lexer": "ipython3",
   "version": "3.10.0"
  }
 },
 "nbformat": 4,
 "nbformat_minor": 2
}
